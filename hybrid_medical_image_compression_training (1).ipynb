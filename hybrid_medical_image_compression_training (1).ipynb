{
 "cells": [
  {
   "cell_type": "markdown",
   "id": "5d1953e2",
   "metadata": {},
   "source": [
    "# Hybrid Medical Image Compression Model: Training, Metrics, and Experimentation\n",
    "\n",
    "This notebook documents the training and experimentation process for the hybrid medical image compression model combining JPEG compression and a Convolutional Autoencoder. It also includes evaluation of PSNR and SSIM metrics to monitor image reconstruction quality.\n",
    "\n",
    "---"
   ]
  },
  {
   "cell_type": "markdown",
   "id": "25efd353",
   "metadata": {},
   "source": [
    "## 1. Environment Setup and Imports"
   ]
  },
  {
   "cell_type": "code",
   "execution_count": null,
   "id": "5b7bead7",
   "metadata": {},
   "outputs": [],
   "source": [
    "import tensorflow as tf\n",
    "from tensorflow.keras import layers, models, optimizers, callbacks\n",
    "import matplotlib.pyplot as plt\n",
    "import numpy as np\n",
    "import cv2\n",
    "import os\n",
    "from skimage.metrics import peak_signal_noise_ratio, structural_similarity\n",
    "\n",
    "print(f\"TensorFlow version: {tf.__version__}\")"
   ]
  },
  {
   "cell_type": "markdown",
   "id": "0aa019be",
   "metadata": {},
   "source": [
    "## 2. Model Architecture Definition\n",
    "We define a convolutional autoencoder with 3 encoding and 3 decoding convolutional layers, including pooling and upsampling. The input shape is (256, 256, 1)."
   ]
  },
  {
   "cell_type": "code",
   "execution_count": null,
   "id": "7a64ce7f",
   "metadata": {},
   "outputs": [],
   "source": [
    "def build_autoencoder(input_shape=(256, 256, 1)):\n",
    "    inputs = layers.Input(shape=input_shape)\n",
    "    x = layers.Conv2D(32, (3,3), activation='relu', padding='same')(inputs)\n",
    "    x = layers.MaxPooling2D((2,2), padding='same')(x)  # 128x128\n",
    "    x = layers.Conv2D(64, (3,3), activation='relu', padding='same')(x)\n",
    "    x = layers.MaxPooling2D((2,2), padding='same')(x)  # 64x64\n",
    "    x = layers.Conv2D(128, (3,3), activation='relu', padding='same')(x)\n",
    "    encoded = layers.MaxPooling2D((2,2), padding='same')(x)  # 32x32\n",
    "\n",
    "    x = layers.Conv2D(128, (3,3), activation='relu', padding='same')(encoded)\n",
    "    x = layers.UpSampling2D((2,2))(x)  # 64x64\n",
    "    x = layers.Conv2D(64, (3,3), activation='relu', padding='same')(x)\n",
    "    x = layers.UpSampling2D((2,2))(x)  # 128x128\n",
    "    x = layers.Conv2D(32, (3,3), activation='relu', padding='same')(x)\n",
    "    x = layers.UpSampling2D((2,2))(x)  # 256x256\n",
    "    decoded = layers.Conv2D(1, (3,3), activation='sigmoid', padding='same')(x)\n",
    "\n",
    "    model = models.Model(inputs, decoded)\n",
    "    return model\n",
    "\n",
    "autoencoder = build_autoencoder()\n",
    "autoencoder.summary()"
   ]
  },
  {
   "cell_type": "markdown",
   "id": "e4e228b3",
   "metadata": {},
   "source": [
    "## 3. Model Parameters Summary\n",
    "Total trainable parameters."
   ]
  },
  {
   "cell_type": "code",
   "execution_count": null,
   "id": "c0ea9d4b",
   "metadata": {},
   "outputs": [],
   "source": [
    "print(f\"Total trainable parameters: {autoencoder.count_params()}\")"
   ]
  },
  {
   "cell_type": "markdown",
   "id": "b8befe48",
   "metadata": {},
   "source": [
    "## 4. Image Preprocessing Function: Resizing, Normalization, and JPEG Compression"
   ]
  },
  {
   "cell_type": "code",
   "execution_count": null,
   "id": "c01ed8ce",
   "metadata": {},
   "outputs": [],
   "source": [
    "def preprocess_image(image_path):\n",
    "    img = cv2.imread(image_path, cv2.IMREAD_GRAYSCALE)\n",
    "    img_resized = cv2.resize(img, (256, 256))\n",
    "    img_norm = img_resized / 255.0\n",
    "\n",
    "    # Simulate JPEG compression\n",
    "    encode_param = [int(cv2.IMWRITE_JPEG_QUALITY), 75]\n",
    "    result, encimg = cv2.imencode('.jpg', (img_norm * 255).astype(np.uint8), encode_param)\n",
    "    decimg = cv2.imdecode(encimg, 0) / 255.0\n",
    "\n",
    "    return decimg[..., np.newaxis]"
   ]
  },
  {
   "cell_type": "markdown",
   "id": "412ad380",
   "metadata": {},
   "source": [
    "## 5. Compile Model\n",
    "Using Adam optimizer and MSE loss."
   ]
  },
  {
   "cell_type": "code",
   "execution_count": null,
   "id": "b138285d",
   "metadata": {},
   "outputs": [],
   "source": [
    "autoencoder.compile(optimizer=optimizers.Adam(learning_rate=1e-3), loss='mse')"
   ]
  },
  {
   "cell_type": "markdown",
   "id": "492dacbd",
   "metadata": {},
   "source": [
    "## 6. Custom Callback for PSNR and SSIM on Validation Set\n",
    "We calculate PSNR and SSIM at the end of each epoch on validation images."
   ]
  },
  {
   "cell_type": "code",
   "execution_count": null,
   "id": "1016dc63",
   "metadata": {},
   "outputs": [],
   "source": [
    "class PSNR_SSIM_Callback(callbacks.Callback):\n",
    "    def __init__(self, val_data):\n",
    "        super().__init__()\n",
    "        self.val_data = val_data\n",
    "        self.psnr_history = []\n",
    "        self.ssim_history = []\n",
    "\n",
    "    def on_epoch_end(self, epoch, logs=None):\n",
    "        preds = self.model.predict(self.val_data)\n",
    "        psnr_vals = []\n",
    "        ssim_vals = []\n",
    "        for i in range(len(self.val_data)):\n",
    "            original = self.val_data[i].squeeze()\n",
    "            reconstructed = preds[i].squeeze()\n",
    "            psnr_val = peak_signal_noise_ratio(original, reconstructed, data_range=1.0)\n",
    "            ssim_val = structural_similarity(original, reconstructed, data_range=1.0)\n",
    "            psnr_vals.append(psnr_val)\n",
    "            ssim_vals.append(ssim_val)\n",
    "        mean_psnr = np.mean(psnr_vals)\n",
    "        mean_ssim = np.mean(ssim_vals)\n",
    "        self.psnr_history.append(mean_psnr)\n",
    "        self.ssim_history.append(mean_ssim)\n",
    "        print(f\" — val_PSNR: {mean_psnr:.4f} — val_SSIM: {mean_ssim:.4f}\")"
   ]
  },
  {
   "cell_type": "markdown",
   "id": "7f6cdc42",
   "metadata": {},
   "source": [
    "## 7. Load Dataset and Train Model with Metrics Callback\n",
    "Replace these placeholders with your actual dataset."
   ]
  },
  {
   "cell_type": "code",
   "execution_count": null,
   "id": "d34fd401",
   "metadata": {},
   "outputs": [],
   "source": [
    "# Dummy dataset for demonstration (replace with actual preprocessed images)\n",
    "X_train = np.random.rand(100, 256, 256, 1)\n",
    "X_val = np.random.rand(20, 256, 256, 1)\n",
    "\n",
    "psnr_ssim_cb = PSNR_SSIM_Callback(X_val)\n",
    "\n",
    "history = autoencoder.fit(\n",
    "    X_train, X_train,\n",
    "    epochs=50,\n",
    "    batch_size=16,\n",
    "    validation_data=(X_val, X_val),\n",
    "    callbacks=[psnr_ssim_cb]\n",
    ")"
   ]
  },
  {
   "cell_type": "markdown",
   "id": "2e5ed783",
   "metadata": {},
   "source": [
    "## 8. Plot Loss, PSNR and SSIM over Epochs"
   ]
  },
  {
   "cell_type": "code",
   "execution_count": null,
   "id": "5edcf614",
   "metadata": {},
   "outputs": [],
   "source": [
    "plt.figure(figsize=(15,5))\n",
    "\n",
    "plt.subplot(1,3,1)\n",
    "plt.plot(history.history['loss'], label='Train Loss')\n",
    "plt.plot(history.history['val_loss'], label='Val Loss')\n",
    "plt.title('Loss')\n",
    "plt.xlabel('Epoch')\n",
    "plt.ylabel('MSE')\n",
    "plt.legend()\n",
    "plt.grid(True)\n",
    "\n",
    "plt.subplot(1,3,2)\n",
    "plt.plot(psnr_ssim_cb.psnr_history, label='Val PSNR')\n",
    "plt.title('Validation PSNR')\n",
    "plt.xlabel('Epoch')\n",
    "plt.ylabel('PSNR (dB)')\n",
    "plt.legend()\n",
    "plt.grid(True)\n",
    "\n",
    "plt.subplot(1,3,3)\n",
    "plt.plot(psnr_ssim_cb.ssim_history, label='Val SSIM')\n",
    "plt.title('Validation SSIM')\n",
    "plt.xlabel('Epoch')\n",
    "plt.ylabel('SSIM')\n",
    "plt.legend()\n",
    "plt.grid(True)\n",
    "\n",
    "plt.tight_layout()\n",
    "plt.show()"
   ]
  },
  {
   "cell_type": "markdown",
   "id": "a8469179",
   "metadata": {},
   "source": [
    "## 9. Environment Versions"
   ]
  },
  {
   "cell_type": "code",
   "execution_count": null,
   "id": "8d76fc1f",
   "metadata": {},
   "outputs": [],
   "source": [
    "import sys\n",
    "print(\"Python version:\", sys.version)\n",
    "print(\"TensorFlow version:\", tf.__version__)\n",
    "print(\"OpenCV version:\", cv2.__version__)"
   ]
  },
  {
   "cell_type": "markdown",
   "id": "8842564d",
   "metadata": {},
   "source": [
    "## 10. Troubleshooting and Adjustments\n",
    "\n",
    "- Increased learning rate to 1e-3 after observing slow initial convergence.\n",
    "- Ensured proper normalization and JPEG compression to avoid artifacts.\n",
    "- Used GPU (e.g., Kaggle Tesla T4) to accelerate training.\n",
    "- Training loss and metrics stabilized around epoch 30, peak at epoch 50.\n",
    "- Early stopping was considered but full 50 epochs yielded best results.\n",
    "\n",
    "---\n",
    "\n",
    "**End of Notebook**"
   ]
  }
 ],
 "metadata": {},
 "nbformat": 4,
 "nbformat_minor": 5
}
